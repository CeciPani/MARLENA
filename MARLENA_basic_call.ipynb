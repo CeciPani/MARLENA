{
 "cells": [
  {
   "cell_type": "code",
   "execution_count": 3,
   "metadata": {},
   "outputs": [],
   "source": [
    "from marlena.marlena import MARLENA\n",
    "import pandas as pd\n",
    "import numpy as np\n",
    "from sklearn.externals import joblib"
   ]
  },
  {
   "cell_type": "code",
   "execution_count": 4,
   "metadata": {},
   "outputs": [],
   "source": [
    "bb = joblib.load('./black_boxes/RandomForest.pkl') "
   ]
  },
  {
   "cell_type": "code",
   "execution_count": 17,
   "metadata": {},
   "outputs": [],
   "source": [
    "numerical_vars = np.load('./data/numerical_vars.npy').tolist()\n",
    "labels_name = np.load('./data/labels_name.npy').tolist()\n",
    "categorical_vars = np.load('./data/categorical_vars.npy').tolist()\n",
    "df = pd.read_csv('./data/preprocessed_patient-characteristics.csv')"
   ]
  },
  {
   "cell_type": "code",
   "execution_count": 21,
   "metadata": {},
   "outputs": [
    {
     "name": "stdout",
     "output_type": "stream",
     "text": [
      "MARLENA-unified\n",
      "decision rule: {Other Cash Benefits=YES = False, No Chronic Med Condition=YES = False, Received Smoking Medication=YES = False, Three Digit Residence Zip Code = True, Three Digit Residence Zip Code = True, Public Assistance Cash Program=YES = False} -> ['Diabetes=NO' 'Obesity=NO' 'Heart Attack=NO']\n",
      "rule length: 6\n",
      "black-box decision: [[1. 0. 0. 1. 1. 0.]]\n",
      "explained decision: [[1. 0. 1. 0. 1. 0.]]\n",
      "fidelity of DT: 0.9728943059850828\n",
      "hit: 0.6666666666666667\n"
     ]
    }
   ],
   "source": [
    "m1 = MARLENA(neigh_type='unified')\n",
    "i2e = df.loc[3, numerical_vars+categorical_vars]\n",
    "rule, instance_imporant_feat, fidelity, hit, DT = m1.extract_explanation(i2e, df, bb, numerical_vars, categorical_vars, labels_name, k=200, size=2000,alpha=0.1)"
   ]
  },
  {
   "cell_type": "code",
   "execution_count": null,
   "metadata": {},
   "outputs": [],
   "source": []
  }
 ],
 "metadata": {
  "kernelspec": {
   "display_name": "Python 3",
   "language": "python",
   "name": "python3"
  },
  "language_info": {
   "codemirror_mode": {
    "name": "ipython",
    "version": 3
   },
   "file_extension": ".py",
   "mimetype": "text/x-python",
   "name": "python",
   "nbconvert_exporter": "python",
   "pygments_lexer": "ipython3",
   "version": "3.6.7"
  }
 },
 "nbformat": 4,
 "nbformat_minor": 2
}
