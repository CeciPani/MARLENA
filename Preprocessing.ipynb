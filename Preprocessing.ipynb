{
 "cells": [
  {
   "cell_type": "code",
   "execution_count": 1,
   "metadata": {},
   "outputs": [],
   "source": [
    "import pandas as pd\n",
    "import numpy as np\n",
    "from sklearn.externals import joblib\n",
    "import warnings\n",
    "warnings.filterwarnings('ignore')"
   ]
  },
  {
   "cell_type": "markdown",
   "metadata": {},
   "source": [
    "### Survey patients characteristics"
   ]
  },
  {
   "cell_type": "code",
   "execution_count": 2,
   "metadata": {},
   "outputs": [
    {
     "name": "stdout",
     "output_type": "stream",
     "text": [
      "shape: (179096, 67)\n",
      "58 out of 67 columns contain the UNKNOWN value:\n",
      "\n",
      "the percentage of unknown values in Age Group is 0.00010050475722517533\n",
      "the percentage of unknown values in Sex is 0.00209964373066485\n",
      "the percentage of unknown values in Transgender is 0.02722409374265537\n",
      "the percentage of unknown values in Sexual Orientation is 0.07731955797672532\n",
      "the percentage of unknown values in Hispanic Ethnicity is 0.014563954213322027\n",
      "the percentage of unknown values in Living Situation is 0.00764266734151588\n",
      "the percentage of unknown values in Household Composition is 0.018565271721112896\n",
      "the percentage of unknown values in Preferred Language is 0.0023970378069377678\n",
      "the percentage of unknown values in Veteran Status is 0.015582369067076466\n",
      "the percentage of unknown values in Education Status is 0.053268332693910486\n",
      "the percentage of unknown values in Special Education Services is 0.006029694323144105\n",
      "the percentage of unknown values in Mental Illness is 0.006319326313421715\n",
      "the percentage of unknown values in Intellectual Disability is 0.0406895722360165\n",
      "the percentage of unknown values in Autism Spectrum is 0.005390418181415962\n",
      "the percentage of unknown values in Other Developmental Disability is 0.0036625148279952552\n",
      "the percentage of unknown values in Alcohol Related Disorder is 0.0035197118747488576\n",
      "the percentage of unknown values in Drug Substance Disorder is 0.0015308446528716406\n",
      "the percentage of unknown values in Mobility Impairment Disorder is 0.0022287372483321866\n",
      "the percentage of unknown values in Hearing Visual Impairment is 0.0014466681658046622\n",
      "the percentage of unknown values in Hyperlipidemia is 0.04160129713174745\n",
      "the percentage of unknown values in Smokes is 0.013166242412375172\n",
      "the percentage of unknown values in Received Smoking Medication is 0.008476594123529692\n",
      "the percentage of unknown values in Received Smoking Counseling is 0.0028256727982965916\n",
      "the percentage of unknown values in Serious Mental Illness is 0.0008749889622952004\n",
      "the percentage of unknown values in Principal Diagnosis Class is 0.02228756909628487\n",
      "the percentage of unknown values in Additional Diagnosis Class is 0.5382447201906484\n",
      "the percentage of unknown values in SSI Cash Assistance is 0.03854055386638179\n",
      "the percentage of unknown values in SSDI Cash Assistance is 0.007307692307692308\n",
      "the percentage of unknown values in Veterans Disability Benefits is 0.0015325670498084292\n",
      "the percentage of unknown values in Veterans Cash Assistance is 0.0006984745660403391\n",
      "the percentage of unknown values in Public Assistance Cash Program is 0.013245776021262276\n",
      "the percentage of unknown values in Other Cash Benefits is 0.004153877097707934\n",
      "the percentage of unknown values in Medicaid and Medicare Insurance is 0.0078857704871966\n",
      "the percentage of unknown values in No Insurance is 0.002053497141036308\n",
      "the percentage of unknown values in Medicaid Insurance is 0.00023947634505880474\n",
      "the percentage of unknown values in Medicaid Managed Insurance is 0.04795109963715079\n",
      "the percentage of unknown values in Medicare Insurance is 0.0002515981139459903\n",
      "the percentage of unknown values in Private Insurance is 0.0013981190638194748\n",
      "the percentage of unknown values in Child Health Plus Insurance is 0.000980053576262169\n",
      "the percentage of unknown values in Other Insurance is 0.0011305030271320726\n",
      "the percentage of unknown values in Criminal Justice Status is 0.015854308724078905\n"
     ]
    }
   ],
   "source": [
    "file_path = './data/nys-patient-characteristics-survey-pcs-2015/patient-characteristics-survey-pcs-2015.csv'\n",
    "labels = ['Diabetes','Obesity','Heart Attack','Stroke','Other Cardiac']\n",
    "\n",
    "check_df = pd.read_csv(file_path)\n",
    "print(f'shape: {check_df.shape}')\n",
    "n_cols_unknown = len([col for col in check_df.columns if \"UNKNOWN\" in check_df[col].values])\n",
    "\n",
    "print(f'{n_cols_unknown} out of {len(check_df.columns)} columns contain the UNKNOWN value:\\n')\n",
    "\n",
    "for col in check_df.columns:\n",
    "    col_vals = check_df[col].values\n",
    "    if 'UNKNOWN' in col_vals:\n",
    "        perc_unknown = len(col_vals[col_vals=='UNKNOWN'])/len(col_vals)\n",
    "        print(f'the percentage of unknown values in {col} is {perc_unknown}')\n",
    "        if perc_unknown>0.1:\n",
    "            #rimuovi la colonna\n",
    "            check_df.drop(col,1,inplace=True)\n",
    "        else:\n",
    "            #rimuovi le righe\n",
    "            indexes_unknown = check_df[check_df[col]==\"UNKNOWN\"].index.values\n",
    "            check_df.drop(indexes_unknown,inplace=True)\n"
   ]
  },
  {
   "cell_type": "code",
   "execution_count": 3,
   "metadata": {},
   "outputs": [],
   "source": [
    "dummified_check_df = pd.get_dummies(check_df.drop('Survey Year',1),prefix_sep='=')\n",
    "dummified_check_df = pd.concat([dummified_check_df,check_df['Survey Year']],1)\n",
    "dummified_check_df.to_csv('./data/preprocessed_patient-characteristics.csv',index=False)"
   ]
  },
  {
   "cell_type": "code",
   "execution_count": 5,
   "metadata": {},
   "outputs": [],
   "source": [
    "numerical_vars= ['Survey Year']\n",
    "labels_name = [col for col in dummified_check_df.columns if ('Diabetes' in col) or ('Obesity' in col) or ('Heart Attack' in col)]\n",
    "categorical_vars = [col for col in dummified_check_df if col not in labels_name and col not in numerical_vars]\n",
    "\n",
    "np.save('./data/numerical_vars.npy',numerical_vars)\n",
    "np.save('./data/labels_name.npy',labels_name)\n",
    "np.save('./data/categorical_vars.npy',categorical_vars)"
   ]
  },
  {
   "cell_type": "code",
   "execution_count": 6,
   "metadata": {},
   "outputs": [
    {
     "data": {
      "text/plain": [
       "RandomForestClassifier(bootstrap=True, class_weight=None, criterion='gini',\n",
       "            max_depth=None, max_features='auto', max_leaf_nodes=None,\n",
       "            min_impurity_decrease=0.0, min_impurity_split=None,\n",
       "            min_samples_leaf=1, min_samples_split=2,\n",
       "            min_weight_fraction_leaf=0.0, n_estimators=10, n_jobs=None,\n",
       "            oob_score=False, random_state=None, verbose=0,\n",
       "            warm_start=False)"
      ]
     },
     "execution_count": 6,
     "metadata": {},
     "output_type": "execute_result"
    }
   ],
   "source": [
    "from sklearn.ensemble import RandomForestClassifier\n",
    "\n",
    "dummified_check_df = dummified_check_df.reset_index(drop=True)\n",
    "\n",
    "bb = RandomForestClassifier()\n",
    "bb.fit(dummified_check_df[numerical_vars+categorical_vars].values,dummified_check_df[labels_name].values)"
   ]
  },
  {
   "cell_type": "code",
   "execution_count": 8,
   "metadata": {},
   "outputs": [
    {
     "data": {
      "text/plain": [
       "['./black_boxes/RandomForest.pkl']"
      ]
     },
     "execution_count": 8,
     "metadata": {},
     "output_type": "execute_result"
    }
   ],
   "source": [
    "from sklearn.externals import joblib\n",
    "joblib.dump(bb, './black_boxes/RandomForest.pkl') "
   ]
  }
 ],
 "metadata": {
  "kernelspec": {
   "display_name": "Python 3",
   "language": "python",
   "name": "python3"
  },
  "language_info": {
   "codemirror_mode": {
    "name": "ipython",
    "version": 3
   },
   "file_extension": ".py",
   "mimetype": "text/x-python",
   "name": "python",
   "nbconvert_exporter": "python",
   "pygments_lexer": "ipython3",
   "version": "3.6.7"
  }
 },
 "nbformat": 4,
 "nbformat_minor": 2
}
