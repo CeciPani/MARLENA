{
 "cells": [
  {
   "cell_type": "code",
   "execution_count": 1,
   "metadata": {
    "slideshow": {
     "slide_type": "skip"
    }
   },
   "outputs": [],
   "source": [
    "import pandas as pd\n",
    "import numpy as np\n",
    "from sklearn.externals import joblib\n",
    "import time\n",
    "from IPython.display import Image\n",
    "\n",
    "from sklearn import tree\n",
    "from dtreeviz.trees import *"
   ]
  },
  {
   "cell_type": "code",
   "execution_count": 2,
   "metadata": {
    "slideshow": {
     "slide_type": "skip"
    }
   },
   "outputs": [],
   "source": [
    "def highlight_max(data, color='yellow'):\n",
    "    '''\n",
    "    highlight the maximum in a Series or DataFrame\n",
    "    '''\n",
    "    attr = 'background-color: {}'.format(color)\n",
    "    \n",
    "    if data.ndim == 1:  # Series from .apply(axis=0) or axis=1\n",
    "        is_max = data == data.max()\n",
    "        return [attr if v else '' for v in is_max]\n",
    "    else:  # from .apply(axis=None)\n",
    "        is_max = data == data.max().max()\n",
    "        return pd.DataFrame(np.where(is_max, attr, ''),\n",
    "                            index=data.index, columns=data.columns)"
   ]
  },
  {
   "cell_type": "markdown",
   "metadata": {
    "slideshow": {
     "slide_type": "skip"
    }
   },
   "source": [
    "<p>\n",
    "  <font size=\"6\">$$b{:}\\mathcal{X}^{(m)} {\\rightarrow} \\mathcal{Y}^{(l)}$$</font> \n",
    "</p>\n"
   ]
  },
  {
   "cell_type": "markdown",
   "metadata": {
    "slideshow": {
     "slide_type": "slide"
    }
   },
   "source": [
    "# MARLENA: explaining multi-label black-box decisions"
   ]
  },
  {
   "cell_type": "markdown",
   "metadata": {
    "slideshow": {
     "slide_type": "slide"
    }
   },
   "source": [
    "### Multi-label classification\n",
    "\n",
    "Multi-label tasks are quite common, everytime an instance might be associated with more than one not mutually exclusive labels we have a multi-label problem. \n",
    "\n",
    "\n",
    "<center><img style=\"float: ;\" src=\"./data/gitignoreDATA/presentazione_lipari_MARLENA/carlino_multilabel.png\"></center>\n",
    "\n",
    "<center><font size=\"6\">[Dog, Wig, Guitar]</font></center>\n",
    "\n"
   ]
  },
  {
   "cell_type": "markdown",
   "metadata": {
    "slideshow": {
     "slide_type": "slide"
    }
   },
   "source": [
    "Most of the high-performance algorithms are black-boxes. How can we explain a multi-label black box decision using **MARLENA**?\n",
    "\n",
    "Let's walk through an example."
   ]
  },
  {
   "cell_type": "markdown",
   "metadata": {
    "slideshow": {
     "slide_type": "slide"
    }
   },
   "source": [
    "### Dataset: *NYS OMH Patient Characteristics Survey (PCS) 2015*\n",
    "This dataset contains demographic, clinical, social, and insurance characteristics for each client served by the NYS public mental health system during the week of October 19, 2015.\n",
    "\n",
    "<center><img style=\"width: 60%; height: 60%\" src=\"./data/gitignoreDATA/presentazione_lipari_MARLENA/Data.png\"></center>\n",
    "\n",
    "https://www.kaggle.com/new-york-state/nys-patient-characteristics-survey-pcs-2015"
   ]
  },
  {
   "cell_type": "code",
   "execution_count": 4,
   "metadata": {},
   "outputs": [
    {
     "data": {
      "text/plain": [
       "Index(['Age Group_CHILD', 'Sex_MALE', 'Hispanic Ethnicity_YES',\n",
       "       'Veteran Status_YES', 'Mental Illness_YES',\n",
       "       'Intellectual Disability_YES', 'Autism Spectrum_YES',\n",
       "       'Other Developmental Disability_YES', 'Alcohol Related Disorder_YES',\n",
       "       'Drug Substance Disorder_YES',\n",
       "       ...\n",
       "       'ZIP3=142', 'ZIP3=143', 'ZIP3=144', 'ZIP3=145', 'ZIP3=146', 'ZIP3=147',\n",
       "       'ZIP3=148', 'ZIP3=149', 'ZIP3=888', 'ZIP3=999'],\n",
       "      dtype='object', length=161)"
      ]
     },
     "execution_count": 4,
     "metadata": {},
     "output_type": "execute_result"
    }
   ],
   "source": [
    "df.columns"
   ]
  },
  {
   "cell_type": "code",
   "execution_count": 3,
   "metadata": {
    "slideshow": {
     "slide_type": "subslide"
    }
   },
   "outputs": [
    {
     "data": {
      "text/html": [
       "<div>\n",
       "<style scoped>\n",
       "    .dataframe tbody tr th:only-of-type {\n",
       "        vertical-align: middle;\n",
       "    }\n",
       "\n",
       "    .dataframe tbody tr th {\n",
       "        vertical-align: top;\n",
       "    }\n",
       "\n",
       "    .dataframe thead th {\n",
       "        text-align: right;\n",
       "    }\n",
       "</style>\n",
       "<table border=\"1\" class=\"dataframe\">\n",
       "  <thead>\n",
       "    <tr style=\"text-align: right;\">\n",
       "      <th></th>\n",
       "      <th>Age Group_CHILD</th>\n",
       "      <th>Sex_MALE</th>\n",
       "      <th>Hispanic Ethnicity_YES</th>\n",
       "      <th>Veteran Status_YES</th>\n",
       "      <th>Mental Illness_YES</th>\n",
       "      <th>Intellectual Disability_YES</th>\n",
       "      <th>Autism Spectrum_YES</th>\n",
       "      <th>Other Developmental Disability_YES</th>\n",
       "      <th>Alcohol Related Disorder_YES</th>\n",
       "      <th>Drug Substance Disorder_YES</th>\n",
       "      <th>...</th>\n",
       "      <th>ZIP3=142</th>\n",
       "      <th>ZIP3=143</th>\n",
       "      <th>ZIP3=144</th>\n",
       "      <th>ZIP3=145</th>\n",
       "      <th>ZIP3=146</th>\n",
       "      <th>ZIP3=147</th>\n",
       "      <th>ZIP3=148</th>\n",
       "      <th>ZIP3=149</th>\n",
       "      <th>ZIP3=888</th>\n",
       "      <th>ZIP3=999</th>\n",
       "    </tr>\n",
       "  </thead>\n",
       "  <tbody>\n",
       "    <tr>\n",
       "      <th>0</th>\n",
       "      <td>0</td>\n",
       "      <td>1</td>\n",
       "      <td>1</td>\n",
       "      <td>0</td>\n",
       "      <td>1</td>\n",
       "      <td>0</td>\n",
       "      <td>0</td>\n",
       "      <td>0</td>\n",
       "      <td>1</td>\n",
       "      <td>1</td>\n",
       "      <td>...</td>\n",
       "      <td>0</td>\n",
       "      <td>0</td>\n",
       "      <td>0</td>\n",
       "      <td>0</td>\n",
       "      <td>0</td>\n",
       "      <td>0</td>\n",
       "      <td>0</td>\n",
       "      <td>0</td>\n",
       "      <td>0</td>\n",
       "      <td>0</td>\n",
       "    </tr>\n",
       "    <tr>\n",
       "      <th>1</th>\n",
       "      <td>0</td>\n",
       "      <td>1</td>\n",
       "      <td>0</td>\n",
       "      <td>0</td>\n",
       "      <td>1</td>\n",
       "      <td>0</td>\n",
       "      <td>0</td>\n",
       "      <td>0</td>\n",
       "      <td>0</td>\n",
       "      <td>0</td>\n",
       "      <td>...</td>\n",
       "      <td>0</td>\n",
       "      <td>0</td>\n",
       "      <td>0</td>\n",
       "      <td>0</td>\n",
       "      <td>0</td>\n",
       "      <td>0</td>\n",
       "      <td>0</td>\n",
       "      <td>0</td>\n",
       "      <td>0</td>\n",
       "      <td>0</td>\n",
       "    </tr>\n",
       "    <tr>\n",
       "      <th>2</th>\n",
       "      <td>0</td>\n",
       "      <td>0</td>\n",
       "      <td>0</td>\n",
       "      <td>0</td>\n",
       "      <td>1</td>\n",
       "      <td>0</td>\n",
       "      <td>0</td>\n",
       "      <td>0</td>\n",
       "      <td>0</td>\n",
       "      <td>0</td>\n",
       "      <td>...</td>\n",
       "      <td>0</td>\n",
       "      <td>0</td>\n",
       "      <td>0</td>\n",
       "      <td>0</td>\n",
       "      <td>0</td>\n",
       "      <td>0</td>\n",
       "      <td>0</td>\n",
       "      <td>0</td>\n",
       "      <td>1</td>\n",
       "      <td>0</td>\n",
       "    </tr>\n",
       "    <tr>\n",
       "      <th>3</th>\n",
       "      <td>0</td>\n",
       "      <td>1</td>\n",
       "      <td>0</td>\n",
       "      <td>0</td>\n",
       "      <td>1</td>\n",
       "      <td>0</td>\n",
       "      <td>0</td>\n",
       "      <td>0</td>\n",
       "      <td>1</td>\n",
       "      <td>1</td>\n",
       "      <td>...</td>\n",
       "      <td>0</td>\n",
       "      <td>0</td>\n",
       "      <td>0</td>\n",
       "      <td>0</td>\n",
       "      <td>0</td>\n",
       "      <td>0</td>\n",
       "      <td>0</td>\n",
       "      <td>0</td>\n",
       "      <td>0</td>\n",
       "      <td>0</td>\n",
       "    </tr>\n",
       "    <tr>\n",
       "      <th>4</th>\n",
       "      <td>0</td>\n",
       "      <td>1</td>\n",
       "      <td>0</td>\n",
       "      <td>1</td>\n",
       "      <td>1</td>\n",
       "      <td>0</td>\n",
       "      <td>0</td>\n",
       "      <td>0</td>\n",
       "      <td>1</td>\n",
       "      <td>0</td>\n",
       "      <td>...</td>\n",
       "      <td>0</td>\n",
       "      <td>0</td>\n",
       "      <td>0</td>\n",
       "      <td>0</td>\n",
       "      <td>0</td>\n",
       "      <td>0</td>\n",
       "      <td>0</td>\n",
       "      <td>0</td>\n",
       "      <td>0</td>\n",
       "      <td>0</td>\n",
       "    </tr>\n",
       "  </tbody>\n",
       "</table>\n",
       "<p>5 rows × 161 columns</p>\n",
       "</div>"
      ],
      "text/plain": [
       "   Age Group_CHILD  Sex_MALE  Hispanic Ethnicity_YES  Veteran Status_YES  \\\n",
       "0                0         1                       1                   0   \n",
       "1                0         1                       0                   0   \n",
       "2                0         0                       0                   0   \n",
       "3                0         1                       0                   0   \n",
       "4                0         1                       0                   1   \n",
       "\n",
       "   Mental Illness_YES  Intellectual Disability_YES  Autism Spectrum_YES  \\\n",
       "0                   1                            0                    0   \n",
       "1                   1                            0                    0   \n",
       "2                   1                            0                    0   \n",
       "3                   1                            0                    0   \n",
       "4                   1                            0                    0   \n",
       "\n",
       "   Other Developmental Disability_YES  Alcohol Related Disorder_YES  \\\n",
       "0                                   0                             1   \n",
       "1                                   0                             0   \n",
       "2                                   0                             0   \n",
       "3                                   0                             1   \n",
       "4                                   0                             1   \n",
       "\n",
       "   Drug Substance Disorder_YES    ...     ZIP3=142  ZIP3=143  ZIP3=144  \\\n",
       "0                            1    ...            0         0         0   \n",
       "1                            0    ...            0         0         0   \n",
       "2                            0    ...            0         0         0   \n",
       "3                            1    ...            0         0         0   \n",
       "4                            0    ...            0         0         0   \n",
       "\n",
       "   ZIP3=145  ZIP3=146  ZIP3=147  ZIP3=148  ZIP3=149  ZIP3=888  ZIP3=999  \n",
       "0         0         0         0         0         0         0         0  \n",
       "1         0         0         0         0         0         0         0  \n",
       "2         0         0         0         0         0         1         0  \n",
       "3         0         0         0         0         0         0         0  \n",
       "4         0         0         0         0         0         0         0  \n",
       "\n",
       "[5 rows x 161 columns]"
      ]
     },
     "execution_count": 3,
     "metadata": {},
     "output_type": "execute_result"
    }
   ],
   "source": [
    "#load the dataset:\n",
    "df = pd.read_csv('./data/mental_illness.csv',index_col=0)\n",
    "\n",
    "df.head()"
   ]
  },
  {
   "cell_type": "code",
   "execution_count": 4,
   "metadata": {
    "slideshow": {
     "slide_type": "subslide"
    }
   },
   "outputs": [
    {
     "data": {
      "text/html": [
       "<div>\n",
       "<style scoped>\n",
       "    .dataframe tbody tr th:only-of-type {\n",
       "        vertical-align: middle;\n",
       "    }\n",
       "\n",
       "    .dataframe tbody tr th {\n",
       "        vertical-align: top;\n",
       "    }\n",
       "\n",
       "    .dataframe thead th {\n",
       "        text-align: right;\n",
       "    }\n",
       "</style>\n",
       "<table border=\"1\" class=\"dataframe\">\n",
       "  <thead>\n",
       "    <tr style=\"text-align: right;\">\n",
       "      <th></th>\n",
       "      <th>Mental Illness_YES</th>\n",
       "      <th>Serious Mental Illness_YES</th>\n",
       "      <th>Other Developmental Disability_YES</th>\n",
       "      <th>Alcohol Related Disorder_YES</th>\n",
       "      <th>Drug Substance Disorder_YES</th>\n",
       "      <th>0</th>\n",
       "    </tr>\n",
       "  </thead>\n",
       "  <tbody>\n",
       "    <tr>\n",
       "      <th>0</th>\n",
       "      <td>1</td>\n",
       "      <td>1</td>\n",
       "      <td>0</td>\n",
       "      <td>0</td>\n",
       "      <td>0</td>\n",
       "      <td>67248</td>\n",
       "    </tr>\n",
       "    <tr>\n",
       "      <th>1</th>\n",
       "      <td>1</td>\n",
       "      <td>0</td>\n",
       "      <td>0</td>\n",
       "      <td>0</td>\n",
       "      <td>0</td>\n",
       "      <td>12889</td>\n",
       "    </tr>\n",
       "    <tr>\n",
       "      <th>2</th>\n",
       "      <td>1</td>\n",
       "      <td>1</td>\n",
       "      <td>0</td>\n",
       "      <td>0</td>\n",
       "      <td>1</td>\n",
       "      <td>6837</td>\n",
       "    </tr>\n",
       "    <tr>\n",
       "      <th>3</th>\n",
       "      <td>1</td>\n",
       "      <td>1</td>\n",
       "      <td>0</td>\n",
       "      <td>1</td>\n",
       "      <td>1</td>\n",
       "      <td>5756</td>\n",
       "    </tr>\n",
       "    <tr>\n",
       "      <th>4</th>\n",
       "      <td>1</td>\n",
       "      <td>1</td>\n",
       "      <td>0</td>\n",
       "      <td>1</td>\n",
       "      <td>0</td>\n",
       "      <td>3116</td>\n",
       "    </tr>\n",
       "    <tr>\n",
       "      <th>5</th>\n",
       "      <td>0</td>\n",
       "      <td>0</td>\n",
       "      <td>0</td>\n",
       "      <td>0</td>\n",
       "      <td>0</td>\n",
       "      <td>2574</td>\n",
       "    </tr>\n",
       "    <tr>\n",
       "      <th>6</th>\n",
       "      <td>1</td>\n",
       "      <td>1</td>\n",
       "      <td>1</td>\n",
       "      <td>0</td>\n",
       "      <td>0</td>\n",
       "      <td>2247</td>\n",
       "    </tr>\n",
       "    <tr>\n",
       "      <th>7</th>\n",
       "      <td>0</td>\n",
       "      <td>1</td>\n",
       "      <td>0</td>\n",
       "      <td>0</td>\n",
       "      <td>0</td>\n",
       "      <td>1674</td>\n",
       "    </tr>\n",
       "    <tr>\n",
       "      <th>8</th>\n",
       "      <td>1</td>\n",
       "      <td>0</td>\n",
       "      <td>0</td>\n",
       "      <td>0</td>\n",
       "      <td>1</td>\n",
       "      <td>702</td>\n",
       "    </tr>\n",
       "    <tr>\n",
       "      <th>9</th>\n",
       "      <td>1</td>\n",
       "      <td>0</td>\n",
       "      <td>0</td>\n",
       "      <td>1</td>\n",
       "      <td>0</td>\n",
       "      <td>402</td>\n",
       "    </tr>\n",
       "    <tr>\n",
       "      <th>10</th>\n",
       "      <td>1</td>\n",
       "      <td>0</td>\n",
       "      <td>0</td>\n",
       "      <td>1</td>\n",
       "      <td>1</td>\n",
       "      <td>398</td>\n",
       "    </tr>\n",
       "    <tr>\n",
       "      <th>11</th>\n",
       "      <td>1</td>\n",
       "      <td>0</td>\n",
       "      <td>1</td>\n",
       "      <td>0</td>\n",
       "      <td>0</td>\n",
       "      <td>282</td>\n",
       "    </tr>\n",
       "    <tr>\n",
       "      <th>12</th>\n",
       "      <td>1</td>\n",
       "      <td>1</td>\n",
       "      <td>1</td>\n",
       "      <td>1</td>\n",
       "      <td>1</td>\n",
       "      <td>207</td>\n",
       "    </tr>\n",
       "    <tr>\n",
       "      <th>13</th>\n",
       "      <td>1</td>\n",
       "      <td>1</td>\n",
       "      <td>1</td>\n",
       "      <td>0</td>\n",
       "      <td>1</td>\n",
       "      <td>206</td>\n",
       "    </tr>\n",
       "    <tr>\n",
       "      <th>14</th>\n",
       "      <td>0</td>\n",
       "      <td>0</td>\n",
       "      <td>0</td>\n",
       "      <td>0</td>\n",
       "      <td>1</td>\n",
       "      <td>145</td>\n",
       "    </tr>\n",
       "    <tr>\n",
       "      <th>15</th>\n",
       "      <td>1</td>\n",
       "      <td>1</td>\n",
       "      <td>1</td>\n",
       "      <td>1</td>\n",
       "      <td>0</td>\n",
       "      <td>122</td>\n",
       "    </tr>\n",
       "    <tr>\n",
       "      <th>16</th>\n",
       "      <td>0</td>\n",
       "      <td>0</td>\n",
       "      <td>0</td>\n",
       "      <td>1</td>\n",
       "      <td>0</td>\n",
       "      <td>91</td>\n",
       "    </tr>\n",
       "    <tr>\n",
       "      <th>17</th>\n",
       "      <td>0</td>\n",
       "      <td>0</td>\n",
       "      <td>0</td>\n",
       "      <td>1</td>\n",
       "      <td>1</td>\n",
       "      <td>74</td>\n",
       "    </tr>\n",
       "    <tr>\n",
       "      <th>18</th>\n",
       "      <td>0</td>\n",
       "      <td>0</td>\n",
       "      <td>1</td>\n",
       "      <td>0</td>\n",
       "      <td>0</td>\n",
       "      <td>72</td>\n",
       "    </tr>\n",
       "    <tr>\n",
       "      <th>19</th>\n",
       "      <td>0</td>\n",
       "      <td>1</td>\n",
       "      <td>1</td>\n",
       "      <td>0</td>\n",
       "      <td>0</td>\n",
       "      <td>56</td>\n",
       "    </tr>\n",
       "  </tbody>\n",
       "</table>\n",
       "</div>"
      ],
      "text/plain": [
       "    Mental Illness_YES  Serious Mental Illness_YES  \\\n",
       "0                    1                           1   \n",
       "1                    1                           0   \n",
       "2                    1                           1   \n",
       "3                    1                           1   \n",
       "4                    1                           1   \n",
       "5                    0                           0   \n",
       "6                    1                           1   \n",
       "7                    0                           1   \n",
       "8                    1                           0   \n",
       "9                    1                           0   \n",
       "10                   1                           0   \n",
       "11                   1                           0   \n",
       "12                   1                           1   \n",
       "13                   1                           1   \n",
       "14                   0                           0   \n",
       "15                   1                           1   \n",
       "16                   0                           0   \n",
       "17                   0                           0   \n",
       "18                   0                           0   \n",
       "19                   0                           1   \n",
       "\n",
       "    Other Developmental Disability_YES  Alcohol Related Disorder_YES  \\\n",
       "0                                    0                             0   \n",
       "1                                    0                             0   \n",
       "2                                    0                             0   \n",
       "3                                    0                             1   \n",
       "4                                    0                             1   \n",
       "5                                    0                             0   \n",
       "6                                    1                             0   \n",
       "7                                    0                             0   \n",
       "8                                    0                             0   \n",
       "9                                    0                             1   \n",
       "10                                   0                             1   \n",
       "11                                   1                             0   \n",
       "12                                   1                             1   \n",
       "13                                   1                             0   \n",
       "14                                   0                             0   \n",
       "15                                   1                             1   \n",
       "16                                   0                             1   \n",
       "17                                   0                             1   \n",
       "18                                   1                             0   \n",
       "19                                   1                             0   \n",
       "\n",
       "    Drug Substance Disorder_YES      0  \n",
       "0                             0  67248  \n",
       "1                             0  12889  \n",
       "2                             1   6837  \n",
       "3                             1   5756  \n",
       "4                             0   3116  \n",
       "5                             0   2574  \n",
       "6                             0   2247  \n",
       "7                             0   1674  \n",
       "8                             1    702  \n",
       "9                             0    402  \n",
       "10                            1    398  \n",
       "11                            0    282  \n",
       "12                            1    207  \n",
       "13                            1    206  \n",
       "14                            1    145  \n",
       "15                            0    122  \n",
       "16                            0     91  \n",
       "17                            1     74  \n",
       "18                            0     72  \n",
       "19                            0     56  "
      ]
     },
     "execution_count": 4,
     "metadata": {},
     "output_type": "execute_result"
    }
   ],
   "source": [
    "#set the labels\n",
    "labels = ['Mental Illness_YES',\n",
    " 'Serious Mental Illness_YES',\n",
    " 'Other Developmental Disability_YES',\n",
    " 'Alcohol Related Disorder_YES',\n",
    " 'Drug Substance Disorder_YES']\n",
    "\n",
    "df.groupby(labels).size().reset_index().sort_values(by=0,ascending=False).reset_index(drop=True)"
   ]
  },
  {
   "cell_type": "markdown",
   "metadata": {
    "slideshow": {
     "slide_type": "slide"
    }
   },
   "source": [
    "### Test some black boxes:\n",
    "\n",
    "Split in training and test set"
   ]
  },
  {
   "cell_type": "code",
   "execution_count": 5,
   "metadata": {
    "slideshow": {
     "slide_type": "subslide"
    }
   },
   "outputs": [],
   "source": [
    "X = df.drop(labels,1)\n",
    "y = df[labels]\n",
    "\n",
    "from sklearn.model_selection import train_test_split\n",
    "\n",
    "X_train, X_test, y_train, y_test = train_test_split(X, y, test_size=0.33, random_state=42)"
   ]
  },
  {
   "cell_type": "code",
   "execution_count": 6,
   "metadata": {
    "slideshow": {
     "slide_type": "subslide"
    }
   },
   "outputs": [],
   "source": [
    "from sklearn.multiclass import OneVsRestClassifier\n",
    "from sklearn.ensemble import AdaBoostClassifier, RandomForestClassifier\n",
    "from sklearn.svm import SVC\n",
    "from sklearn.neighbors import KNeighborsClassifier\n",
    "from sklearn.neural_network import MLPClassifier\n",
    "from sklearn import dummy\n",
    "\n",
    "names = [\"MLPClassifier\",\\\n",
    "         \"RandomForestClassifier\",\\\n",
    "         \"OneVsRestClassifier_SVM\",\\\n",
    "         \"OneVsRestClassifier_Adaboost\",\\\n",
    "         \"Dummy Stratified\"]\n",
    "\n",
    "classifiers = [MLPClassifier(),\\\n",
    "              RandomForestClassifier(),\\\n",
    "              OneVsRestClassifier(SVC(gamma='auto')),\\\n",
    "              OneVsRestClassifier(AdaBoostClassifier(n_estimators=1000)),\\\n",
    "              dummy.DummyClassifier(strategy='stratified')]"
   ]
  },
  {
   "cell_type": "raw",
   "metadata": {
    "slideshow": {
     "slide_type": "skip"
    }
   },
   "source": [
    "import warnings\n",
    "warnings.simplefilter('ignore')\n",
    "\n",
    "from sklearn.metrics import accuracy_score, \\\n",
    "hamming_loss, \\\n",
    "recall_score, \\\n",
    "precision_score, \\\n",
    "f1_score, \\\n",
    "fbeta_score, \\\n",
    "coverage_error\n",
    "\n",
    "tabella_metriche_df = pd.DataFrame(columns=['accuracy score',\\\n",
    "                                            '1-hamming_loss',\\\n",
    "                                            'precision score sample',\\\n",
    "                                            'recall score sample',\\\n",
    "                                            'F1-score sample',\\\n",
    "                                            'precision score macro',\\\n",
    "                                            'recall score macro',\\\n",
    "                                            'F1-score macro',\\\n",
    "                                            'precision score micro',\\\n",
    "                                            'recall score micro',\\\n",
    "                                            'F1-score micro'\n",
    "                                           ], index=names)\n",
    "\n",
    "\n",
    "for name, clf in zip(names, classifiers):\n",
    "    print(name)\n",
    "    \n",
    "    time_start = time.time()\n",
    "    \n",
    "    clf.fit(X_train, y_train)\n",
    "    y_pred = clf.predict(X_test) \n",
    "    \n",
    "    deltaT = time.time() - time_start\n",
    "    print(f'seconds elapsed: {deltaT}')\n",
    "    \n",
    "    joblib.dump(clf, './black_boxes/%s_mental.pkl' % name) \n",
    "    y_true = y_test\n",
    "    \n",
    "    tabella_metriche_df.loc[name] = pd.Series({'accuracy score':round(accuracy_score(y_true, y_pred),3),\\\n",
    "                                                      '1-hamming_loss':round(1-hamming_loss(y_true, y_pred),3),\\\n",
    "                                                      'precision score sample':round(precision_score(y_true, y_pred,average='samples'),3),\\\n",
    "                                                      'recall score sample':round(recall_score(y_true, y_pred,average='samples'),3),\\\n",
    "                                                      'F1-score sample':round(f1_score(y_true, y_pred,average='samples'),3),\n",
    "                                                      'precision score macro':round(precision_score(y_true, y_pred,average='macro'),3),\n",
    "                                                      'recall score macro':round(recall_score(y_true, y_pred,average='macro'),3),\n",
    "                                                      'F1-score macro':round(f1_score(y_true, y_pred,average='macro'),3),\n",
    "                                                      'precision score micro':round(precision_score(y_true, y_pred,average='micro'),3),\n",
    "                                                      'recall score micro':round(recall_score(y_true, y_pred,average='micro'),3),\n",
    "                                                      'F1-score micro':round(f1_score(y_true, y_pred,average='micro'),3)})\n",
    "    "
   ]
  },
  {
   "cell_type": "code",
   "execution_count": 8,
   "metadata": {
    "slideshow": {
     "slide_type": "subslide"
    }
   },
   "outputs": [
    {
     "data": {
      "text/html": [
       "<style  type=\"text/css\" >\n",
       "    #T_47f41942_a7e4_11e9_b032_9cb6d08caed5row0_col6 {\n",
       "            background-color:  yellow;\n",
       "        }    #T_47f41942_a7e4_11e9_b032_9cb6d08caed5row0_col7 {\n",
       "            background-color:  yellow;\n",
       "        }    #T_47f41942_a7e4_11e9_b032_9cb6d08caed5row1_col2 {\n",
       "            background-color:  yellow;\n",
       "        }    #T_47f41942_a7e4_11e9_b032_9cb6d08caed5row1_col8 {\n",
       "            background-color:  yellow;\n",
       "        }    #T_47f41942_a7e4_11e9_b032_9cb6d08caed5row2_col0 {\n",
       "            background-color:  yellow;\n",
       "        }    #T_47f41942_a7e4_11e9_b032_9cb6d08caed5row2_col1 {\n",
       "            background-color:  yellow;\n",
       "        }    #T_47f41942_a7e4_11e9_b032_9cb6d08caed5row2_col4 {\n",
       "            background-color:  yellow;\n",
       "        }    #T_47f41942_a7e4_11e9_b032_9cb6d08caed5row3_col1 {\n",
       "            background-color:  yellow;\n",
       "        }    #T_47f41942_a7e4_11e9_b032_9cb6d08caed5row3_col3 {\n",
       "            background-color:  yellow;\n",
       "        }    #T_47f41942_a7e4_11e9_b032_9cb6d08caed5row3_col5 {\n",
       "            background-color:  yellow;\n",
       "        }    #T_47f41942_a7e4_11e9_b032_9cb6d08caed5row3_col9 {\n",
       "            background-color:  yellow;\n",
       "        }    #T_47f41942_a7e4_11e9_b032_9cb6d08caed5row3_col10 {\n",
       "            background-color:  yellow;\n",
       "        }</style>  \n",
       "<table id=\"T_47f41942_a7e4_11e9_b032_9cb6d08caed5\" > \n",
       "<thead>    <tr> \n",
       "        <th class=\"blank level0\" ></th> \n",
       "        <th class=\"col_heading level0 col0\" >accuracy score</th> \n",
       "        <th class=\"col_heading level0 col1\" >1-hamming_loss</th> \n",
       "        <th class=\"col_heading level0 col2\" >precision score sample</th> \n",
       "        <th class=\"col_heading level0 col3\" >recall score sample</th> \n",
       "        <th class=\"col_heading level0 col4\" >F1-score sample</th> \n",
       "        <th class=\"col_heading level0 col5\" >precision score macro</th> \n",
       "        <th class=\"col_heading level0 col6\" >recall score macro</th> \n",
       "        <th class=\"col_heading level0 col7\" >F1-score macro</th> \n",
       "        <th class=\"col_heading level0 col8\" >precision score micro</th> \n",
       "        <th class=\"col_heading level0 col9\" >recall score micro</th> \n",
       "        <th class=\"col_heading level0 col10\" >F1-score micro</th> \n",
       "    </tr></thead> \n",
       "<tbody>    <tr> \n",
       "        <th id=\"T_47f41942_a7e4_11e9_b032_9cb6d08caed5level0_row0\" class=\"row_heading level0 row0\" >MLPClassifier</th> \n",
       "        <td id=\"T_47f41942_a7e4_11e9_b032_9cb6d08caed5row0_col0\" class=\"data row0 col0\" >0.606</td> \n",
       "        <td id=\"T_47f41942_a7e4_11e9_b032_9cb6d08caed5row0_col1\" class=\"data row0 col1\" >0.898</td> \n",
       "        <td id=\"T_47f41942_a7e4_11e9_b032_9cb6d08caed5row0_col2\" class=\"data row0 col2\" >0.88</td> \n",
       "        <td id=\"T_47f41942_a7e4_11e9_b032_9cb6d08caed5row0_col3\" class=\"data row0 col3\" >0.882</td> \n",
       "        <td id=\"T_47f41942_a7e4_11e9_b032_9cb6d08caed5row0_col4\" class=\"data row0 col4\" >0.859</td> \n",
       "        <td id=\"T_47f41942_a7e4_11e9_b032_9cb6d08caed5row0_col5\" class=\"data row0 col5\" >0.593</td> \n",
       "        <td id=\"T_47f41942_a7e4_11e9_b032_9cb6d08caed5row0_col6\" class=\"data row0 col6\" >0.508</td> \n",
       "        <td id=\"T_47f41942_a7e4_11e9_b032_9cb6d08caed5row0_col7\" class=\"data row0 col7\" >0.529</td> \n",
       "        <td id=\"T_47f41942_a7e4_11e9_b032_9cb6d08caed5row0_col8\" class=\"data row0 col8\" >0.876</td> \n",
       "        <td id=\"T_47f41942_a7e4_11e9_b032_9cb6d08caed5row0_col9\" class=\"data row0 col9\" >0.875</td> \n",
       "        <td id=\"T_47f41942_a7e4_11e9_b032_9cb6d08caed5row0_col10\" class=\"data row0 col10\" >0.875</td> \n",
       "    </tr>    <tr> \n",
       "        <th id=\"T_47f41942_a7e4_11e9_b032_9cb6d08caed5level0_row1\" class=\"row_heading level0 row1\" >RandomForestClassifier</th> \n",
       "        <td id=\"T_47f41942_a7e4_11e9_b032_9cb6d08caed5row1_col0\" class=\"data row1 col0\" >0.612</td> \n",
       "        <td id=\"T_47f41942_a7e4_11e9_b032_9cb6d08caed5row1_col1\" class=\"data row1 col1\" >0.9</td> \n",
       "        <td id=\"T_47f41942_a7e4_11e9_b032_9cb6d08caed5row1_col2\" class=\"data row1 col2\" >0.893</td> \n",
       "        <td id=\"T_47f41942_a7e4_11e9_b032_9cb6d08caed5row1_col3\" class=\"data row1 col3\" >0.87</td> \n",
       "        <td id=\"T_47f41942_a7e4_11e9_b032_9cb6d08caed5row1_col4\" class=\"data row1 col4\" >0.859</td> \n",
       "        <td id=\"T_47f41942_a7e4_11e9_b032_9cb6d08caed5row1_col5\" class=\"data row1 col5\" >0.581</td> \n",
       "        <td id=\"T_47f41942_a7e4_11e9_b032_9cb6d08caed5row1_col6\" class=\"data row1 col6\" >0.438</td> \n",
       "        <td id=\"T_47f41942_a7e4_11e9_b032_9cb6d08caed5row1_col7\" class=\"data row1 col7\" >0.456</td> \n",
       "        <td id=\"T_47f41942_a7e4_11e9_b032_9cb6d08caed5row1_col8\" class=\"data row1 col8\" >0.896</td> \n",
       "        <td id=\"T_47f41942_a7e4_11e9_b032_9cb6d08caed5row1_col9\" class=\"data row1 col9\" >0.856</td> \n",
       "        <td id=\"T_47f41942_a7e4_11e9_b032_9cb6d08caed5row1_col10\" class=\"data row1 col10\" >0.876</td> \n",
       "    </tr>    <tr> \n",
       "        <th id=\"T_47f41942_a7e4_11e9_b032_9cb6d08caed5level0_row2\" class=\"row_heading level0 row2\" >OneVsRestClassifier_SVM</th> \n",
       "        <td id=\"T_47f41942_a7e4_11e9_b032_9cb6d08caed5row2_col0\" class=\"data row2 col0\" >0.638</td> \n",
       "        <td id=\"T_47f41942_a7e4_11e9_b032_9cb6d08caed5row2_col1\" class=\"data row2 col1\" >0.905</td> \n",
       "        <td id=\"T_47f41942_a7e4_11e9_b032_9cb6d08caed5row2_col2\" class=\"data row2 col2\" >0.892</td> \n",
       "        <td id=\"T_47f41942_a7e4_11e9_b032_9cb6d08caed5row2_col3\" class=\"data row2 col3\" >0.896</td> \n",
       "        <td id=\"T_47f41942_a7e4_11e9_b032_9cb6d08caed5row2_col4\" class=\"data row2 col4\" >0.873</td> \n",
       "        <td id=\"T_47f41942_a7e4_11e9_b032_9cb6d08caed5row2_col5\" class=\"data row2 col5\" >0.464</td> \n",
       "        <td id=\"T_47f41942_a7e4_11e9_b032_9cb6d08caed5row2_col6\" class=\"data row2 col6\" >0.41</td> \n",
       "        <td id=\"T_47f41942_a7e4_11e9_b032_9cb6d08caed5row2_col7\" class=\"data row2 col7\" >0.394</td> \n",
       "        <td id=\"T_47f41942_a7e4_11e9_b032_9cb6d08caed5row2_col8\" class=\"data row2 col8\" >0.891</td> \n",
       "        <td id=\"T_47f41942_a7e4_11e9_b032_9cb6d08caed5row2_col9\" class=\"data row2 col9\" >0.875</td> \n",
       "        <td id=\"T_47f41942_a7e4_11e9_b032_9cb6d08caed5row2_col10\" class=\"data row2 col10\" >0.883</td> \n",
       "    </tr>    <tr> \n",
       "        <th id=\"T_47f41942_a7e4_11e9_b032_9cb6d08caed5level0_row3\" class=\"row_heading level0 row3\" >OneVsRestClassifier_Adaboost</th> \n",
       "        <td id=\"T_47f41942_a7e4_11e9_b032_9cb6d08caed5row3_col0\" class=\"data row3 col0\" >0.633</td> \n",
       "        <td id=\"T_47f41942_a7e4_11e9_b032_9cb6d08caed5row3_col1\" class=\"data row3 col1\" >0.905</td> \n",
       "        <td id=\"T_47f41942_a7e4_11e9_b032_9cb6d08caed5row3_col2\" class=\"data row3 col2\" >0.888</td> \n",
       "        <td id=\"T_47f41942_a7e4_11e9_b032_9cb6d08caed5row3_col3\" class=\"data row3 col3\" >0.897</td> \n",
       "        <td id=\"T_47f41942_a7e4_11e9_b032_9cb6d08caed5row3_col4\" class=\"data row3 col4\" >0.872</td> \n",
       "        <td id=\"T_47f41942_a7e4_11e9_b032_9cb6d08caed5row3_col5\" class=\"data row3 col5\" >0.652</td> \n",
       "        <td id=\"T_47f41942_a7e4_11e9_b032_9cb6d08caed5row3_col6\" class=\"data row3 col6\" >0.467</td> \n",
       "        <td id=\"T_47f41942_a7e4_11e9_b032_9cb6d08caed5row3_col7\" class=\"data row3 col7\" >0.486</td> \n",
       "        <td id=\"T_47f41942_a7e4_11e9_b032_9cb6d08caed5row3_col8\" class=\"data row3 col8\" >0.885</td> \n",
       "        <td id=\"T_47f41942_a7e4_11e9_b032_9cb6d08caed5row3_col9\" class=\"data row3 col9\" >0.883</td> \n",
       "        <td id=\"T_47f41942_a7e4_11e9_b032_9cb6d08caed5row3_col10\" class=\"data row3 col10\" >0.884</td> \n",
       "    </tr>    <tr> \n",
       "        <th id=\"T_47f41942_a7e4_11e9_b032_9cb6d08caed5level0_row4\" class=\"row_heading level0 row4\" >Dummy Stratified</th> \n",
       "        <td id=\"T_47f41942_a7e4_11e9_b032_9cb6d08caed5row4_col0\" class=\"data row4 col0\" >0.41</td> \n",
       "        <td id=\"T_47f41942_a7e4_11e9_b032_9cb6d08caed5row4_col1\" class=\"data row4 col1\" >0.835</td> \n",
       "        <td id=\"T_47f41942_a7e4_11e9_b032_9cb6d08caed5row4_col2\" class=\"data row4 col2\" >0.823</td> \n",
       "        <td id=\"T_47f41942_a7e4_11e9_b032_9cb6d08caed5row4_col3\" class=\"data row4 col3\" >0.816</td> \n",
       "        <td id=\"T_47f41942_a7e4_11e9_b032_9cb6d08caed5row4_col4\" class=\"data row4 col4\" >0.784</td> \n",
       "        <td id=\"T_47f41942_a7e4_11e9_b032_9cb6d08caed5row4_col5\" class=\"data row4 col5\" >0.414</td> \n",
       "        <td id=\"T_47f41942_a7e4_11e9_b032_9cb6d08caed5row4_col6\" class=\"data row4 col6\" >0.414</td> \n",
       "        <td id=\"T_47f41942_a7e4_11e9_b032_9cb6d08caed5row4_col7\" class=\"data row4 col7\" >0.414</td> \n",
       "        <td id=\"T_47f41942_a7e4_11e9_b032_9cb6d08caed5row4_col8\" class=\"data row4 col8\" >0.799</td> \n",
       "        <td id=\"T_47f41942_a7e4_11e9_b032_9cb6d08caed5row4_col9\" class=\"data row4 col9\" >0.799</td> \n",
       "        <td id=\"T_47f41942_a7e4_11e9_b032_9cb6d08caed5row4_col10\" class=\"data row4 col10\" >0.799</td> \n",
       "    </tr></tbody> \n",
       "</table> "
      ],
      "text/plain": [
       "<pandas.io.formats.style.Styler at 0x7fe81f348da0>"
      ]
     },
     "execution_count": 8,
     "metadata": {},
     "output_type": "execute_result"
    }
   ],
   "source": [
    "tabella_metriche_df.style.apply(highlight_max)"
   ]
  },
  {
   "cell_type": "markdown",
   "metadata": {
    "slideshow": {
     "slide_type": "fragment"
    }
   },
   "source": [
    "So now we have the black box"
   ]
  },
  {
   "cell_type": "code",
   "execution_count": 7,
   "metadata": {
    "slideshow": {
     "slide_type": "fragment"
    }
   },
   "outputs": [],
   "source": [
    "bb = joblib.load('./black_boxes/OneVsRestClassifier_Adaboost_mental.pkl')"
   ]
  },
  {
   "cell_type": "markdown",
   "metadata": {
    "slideshow": {
     "slide_type": "slide"
    }
   },
   "source": [
    "And now... **MARLENA**\n",
    "\n",
    "https://github.com/CeciPani/MARLENA"
   ]
  },
  {
   "cell_type": "markdown",
   "metadata": {
    "slideshow": {
     "slide_type": "subslide"
    }
   },
   "source": [
    "<center><img style=\"width: 60%; height: 60%\" src=\"./data/gitignoreDATA/presentazione_lipari_MARLENA/2_outcome_explanation.png\"></center>"
   ]
  },
  {
   "cell_type": "markdown",
   "metadata": {
    "slideshow": {
     "slide_type": "fragment"
    }
   },
   "source": [
    "1. It generates a synthetic neighborhood around the instance to be explained using a strategy suitable for multi-label decisions.\n",
    "2. It learns a decision tree (DT) on such neighborhood.\n",
    "3. It derives from the DT a decision rule that explains the black box decision."
   ]
  },
  {
   "cell_type": "markdown",
   "metadata": {
    "slideshow": {
     "slide_type": "subslide"
    }
   },
   "source": [
    "### How MARLENA builds the synthetic neighborhood\n",
    "\n",
    "Suppose we want to explain this instance\n",
    "\n",
    "<center><img style=\"width: 40%; height: 40%\" src=\"./data/gitignoreDATA/presentazione_lipari_MARLENA/dataset_sample.png\"></center>"
   ]
  },
  {
   "cell_type": "markdown",
   "metadata": {
    "slideshow": {
     "slide_type": "subslide"
    }
   },
   "source": [
    "### MARLENA starts from a the feature distribution of the closest neighbors of the instance\n",
    "\n",
    "<center><img style=\"width: 40%; height: 40%\" src=\"./data/gitignoreDATA/presentazione_lipari_MARLENA/mixed_real_neigh.png\"></center>"
   ]
  },
  {
   "cell_type": "markdown",
   "metadata": {
    "slideshow": {
     "slide_type": "subslide"
    }
   },
   "source": [
    "### Selecting the real neighbors: feature space\n",
    "\n",
    "A fraction $\\alpha$ of these neighbors are the closest in the feature space according to a distance function $d_f(x,\\hat{x})$\n",
    "<center><img style=\"width: 40%; height: 40%\" src=\"./data/gitignoreDATA/presentazione_lipari_MARLENA/mixed_features_real_neigh.png\"></center> "
   ]
  },
  {
   "cell_type": "markdown",
   "metadata": {
    "slideshow": {
     "slide_type": "subslide"
    }
   },
   "source": [
    "### Selecting the real neighbors: label space\n",
    "\n",
    "A fraction $1-\\alpha$ of these neighbors are the closest in the **label** space according to a distance function $d_l(b(x),b(\\hat{x}))$\n",
    "\n",
    "<center><img style=\"width: 40%; height: 40%\" src=\"./data/gitignoreDATA/presentazione_lipari_MARLENA/mixed_labels_real_neigh.png\"></center>"
   ]
  },
  {
   "cell_type": "markdown",
   "metadata": {
    "slideshow": {
     "slide_type": "subslide"
    }
   },
   "source": [
    "### MARLENA then create the synthetic neighbors perturbing the real ones.\n",
    "\n",
    "From the distribution of the features of these real neighbors MARLENA creates the synthetic ones. Then the black box is used to label them to generate a new **ground truth** for the interpretable classifier (DT).\n",
    "\n",
    "<center><img style=\"width: 50%; height: 50%\" src=\"./data/gitignoreDATA/presentazione_lipari_MARLENA/labeling.png\"></center>"
   ]
  },
  {
   "cell_type": "code",
   "execution_count": 8,
   "metadata": {
    "slideshow": {
     "slide_type": "slide"
    }
   },
   "outputs": [],
   "source": [
    "from marlena.marlena import MARLENA"
   ]
  },
  {
   "cell_type": "markdown",
   "metadata": {
    "slideshow": {
     "slide_type": "subslide"
    }
   },
   "source": [
    "Istantiate the MARLENA object"
   ]
  },
  {
   "cell_type": "code",
   "execution_count": 9,
   "metadata": {
    "slideshow": {
     "slide_type": "fragment"
    }
   },
   "outputs": [],
   "source": [
    "m1 = MARLENA(neigh_type='mixed')"
   ]
  },
  {
   "cell_type": "code",
   "execution_count": 10,
   "metadata": {
    "slideshow": {
     "slide_type": "fragment"
    }
   },
   "outputs": [
    {
     "name": "stdout",
     "output_type": "stream",
     "text": [
      "black box prediction: [[1 1 0 1 0]]\n"
     ]
    },
    {
     "data": {
      "text/plain": [
       "['Mental Illness_YES',\n",
       " 'Serious Mental Illness_YES',\n",
       " 'Other Developmental Disability_YES',\n",
       " 'Alcohol Related Disorder_YES',\n",
       " 'Drug Substance Disorder_YES']"
      ]
     },
     "execution_count": 10,
     "metadata": {},
     "output_type": "execute_result"
    }
   ],
   "source": [
    "#select one instance whose multi-label decision we want to explain:\n",
    "instance_to_be_explained = df.drop(labels,1).loc[6]\n",
    "\n",
    "# black box decision:\n",
    "print(f'black box prediction: {bb.predict(np.array(instance_to_be_explained.values).reshape(1, -1))}')\n",
    "\n",
    "#remember that:\n",
    "labels"
   ]
  },
  {
   "cell_type": "markdown",
   "metadata": {
    "slideshow": {
     "slide_type": "subslide"
    }
   },
   "source": [
    "To extract the explanation, MARLENA needs:"
   ]
  },
  {
   "cell_type": "code",
   "execution_count": 11,
   "metadata": {
    "slideshow": {
     "slide_type": "fragment"
    }
   },
   "outputs": [],
   "source": [
    "# the black box:\n",
    "bb = joblib.load('./black_boxes/OneVsRestClassifier_Adaboost_mental.pkl')"
   ]
  },
  {
   "cell_type": "code",
   "execution_count": 12,
   "metadata": {
    "slideshow": {
     "slide_type": "fragment"
    }
   },
   "outputs": [],
   "source": [
    "# the instance to be explained:\n",
    "i2e = instance_to_be_explained"
   ]
  },
  {
   "cell_type": "code",
   "execution_count": 13,
   "metadata": {
    "slideshow": {
     "slide_type": "fragment"
    }
   },
   "outputs": [],
   "source": [
    "#the name of the classes:\n",
    "labels_name = labels\n",
    "#which variables are categorical and which are numerical:\n",
    "numerical_vars = []\n",
    "categorical_vars = df.drop(labels,1).columns.values"
   ]
  },
  {
   "cell_type": "code",
   "execution_count": 14,
   "metadata": {
    "slideshow": {
     "slide_type": "fragment"
    }
   },
   "outputs": [],
   "source": [
    "# a set of instances representative of the dataset that was used to train the black box \n",
    "X2E = df.drop(labels_name,1)"
   ]
  },
  {
   "cell_type": "markdown",
   "metadata": {
    "slideshow": {
     "slide_type": "subslide"
    }
   },
   "source": [
    "#### MARLENA hyperparameters:\n",
    "* **k**: number of real neighbors to use to generate the synthetic ones \n",
    "* **alpha**: fraction of neighbors to be sampled from neighbors in the feature space\n",
    "* **k_synth**: number of synthetic neighbots"
   ]
  },
  {
   "cell_type": "code",
   "execution_count": 15,
   "metadata": {
    "slideshow": {
     "slide_type": "fragment"
    }
   },
   "outputs": [],
   "source": [
    "k = 50\n",
    "k_synt = 1000\n",
    "alpha = 0.7"
   ]
  },
  {
   "cell_type": "code",
   "execution_count": 16,
   "metadata": {
    "slideshow": {
     "slide_type": "skip"
    }
   },
   "outputs": [],
   "source": [
    "labels_name = ['Mental Illness',\n",
    " 'Serious Mental Illness',\n",
    " 'Other Developmental Disability',\n",
    " 'Alcohol Related Disorder',\n",
    " 'Drug Substance Disorder']"
   ]
  },
  {
   "cell_type": "markdown",
   "metadata": {
    "slideshow": {
     "slide_type": "slide"
    }
   },
   "source": [
    "### MARLENA \"extract_explanation\" method:"
   ]
  },
  {
   "cell_type": "code",
   "execution_count": 17,
   "metadata": {
    "slideshow": {
     "slide_type": "fragment"
    }
   },
   "outputs": [
    {
     "name": "stdout",
     "output_type": "stream",
     "text": [
      "MARLENA-mixed\n",
      "decision rule: {Neurological Condition_YES = False,\n",
      " Age Group_CHILD = False,\n",
      " Intellectual Disability_YES = False,\n",
      " Smokes_YES = True,\n",
      " ZIP3=888 = False,\n",
      " Program Category=INPATIENT = True,\n",
      " Alzheimer or Dementia_YES = True,\n",
      " Employment Status=NOT IN LABOR FORCE:UNEMPLOYED AND NOT LOOKING FOR WORK = True,\n",
      " ZIP3=103 = False} -> ['Mental Illness' 'Serious Mental Illness' 'Alcohol Related Disorder']\n",
      "rule length: 9\n",
      "black-box decision: [[1 1 0 1 0]]\n",
      "fidelity of DT: 0.9706728004600345\n",
      "hit: 1.0\n"
     ]
    }
   ],
   "source": [
    "rule, instance_imporant_feat, fidelity, hit, DT = m1.extract_explanation(i2e,\\\n",
    "                                                                         X2E,\\\n",
    "                                                                         bb,\\\n",
    "                                                                         numerical_vars,\\\n",
    "                                                                         categorical_vars,\\\n",
    "                                                                         labels_name,\\\n",
    "                                                                         k=k,\\\n",
    "                                                                         size=k_synt,\\\n",
    "                                                                         alpha=alpha)"
   ]
  },
  {
   "cell_type": "markdown",
   "metadata": {
    "slideshow": {
     "slide_type": "slide"
    }
   },
   "source": [
    "### Marlena output:"
   ]
  },
  {
   "cell_type": "code",
   "execution_count": 18,
   "metadata": {
    "slideshow": {
     "slide_type": "fragment"
    }
   },
   "outputs": [
    {
     "name": "stdout",
     "output_type": "stream",
     "text": [
      "{Neurological Condition_YES = False,\n",
      " Age Group_CHILD = False,\n",
      " Intellectual Disability_YES = False,\n",
      " Smokes_YES = True,\n",
      " ZIP3=888 = False,\n",
      " Program Category=INPATIENT = True,\n",
      " Alzheimer or Dementia_YES = True,\n",
      " Employment Status=NOT IN LABOR FORCE:UNEMPLOYED AND NOT LOOKING FOR WORK = True,\n",
      " ZIP3=103 = False} -> ['Mental Illness' 'Serious Mental Illness' 'Alcohol Related Disorder']\n"
     ]
    }
   ],
   "source": [
    "#decision rule\n",
    "print(rule)"
   ]
  },
  {
   "cell_type": "markdown",
   "metadata": {
    "slideshow": {
     "slide_type": "fragment"
    }
   },
   "source": [
    "* Program Category \"INPATIENT\": inpatient services provide stabilization and intensive treatment and rehabilitation with 24-hour care in a controlled environment.\n",
    "* Since the 3-digit zip code is not 888 the client was NOT homeless at the time of the survey"
   ]
  },
  {
   "cell_type": "code",
   "execution_count": 19,
   "metadata": {
    "slideshow": {
     "slide_type": "subslide"
    }
   },
   "outputs": [
    {
     "name": "stdout",
     "output_type": "stream",
     "text": [
      "0.9706728004600345\n"
     ]
    }
   ],
   "source": [
    "#fidelity\n",
    "print(fidelity)"
   ]
  },
  {
   "cell_type": "markdown",
   "metadata": {},
   "source": [
    "$$fidelity(Y,\\hat{Y})\\in\\left[0,1\\right]$$\n",
    "\n",
    "The **fidelity** compares the decisions of the DT to those of the black-box on the synthetic neighborhood. It is measured using the *F1-score*."
   ]
  },
  {
   "cell_type": "code",
   "execution_count": 20,
   "metadata": {
    "slideshow": {
     "slide_type": "subslide"
    }
   },
   "outputs": [
    {
     "name": "stdout",
     "output_type": "stream",
     "text": [
      "1.0\n"
     ]
    }
   ],
   "source": [
    "#hit\n",
    "print(hit)"
   ]
  },
  {
   "cell_type": "markdown",
   "metadata": {},
   "source": [
    "$$hit(y,\\hat{y})) = 1 − hamming(y, ŷ) \\in \\left[0,1\\right]$$\n",
    "\n",
    "The **hit** compares the predictions of the DT and the black-box on the instance *x* under analysis. It is mesured usinf the *simple match similarity* "
   ]
  },
  {
   "cell_type": "markdown",
   "metadata": {
    "slideshow": {
     "slide_type": "slide"
    }
   },
   "source": [
    "# Thank you"
   ]
  }
 ],
 "metadata": {
  "celltoolbar": "Slideshow",
  "kernelspec": {
   "display_name": "Python 3",
   "language": "python",
   "name": "python3"
  },
  "language_info": {
   "codemirror_mode": {
    "name": "ipython",
    "version": 3
   },
   "file_extension": ".py",
   "mimetype": "text/x-python",
   "name": "python",
   "nbconvert_exporter": "python",
   "pygments_lexer": "ipython3",
   "version": "3.6.7"
  },
  "rise": {
   "theme": "sky"
  }
 },
 "nbformat": 4,
 "nbformat_minor": 2
}
